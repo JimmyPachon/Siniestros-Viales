{
  "nbformat": 4,
  "nbformat_minor": 0,
  "metadata": {
    "colab": {
      "provenance": []
    },
    "kernelspec": {
      "name": "python3",
      "display_name": "Python 3"
    },
    "language_info": {
      "name": "python"
    }
  },
  "cells": [
    {
      "cell_type": "markdown",
      "source": [
        "#**EDA**\n",
        "\n",
        "En este documento se desglosa el análisis exploratorio de datos correspondiente al problema relacionado de los accidentes viales en la Ciudad de Buenos Aires, los datos ya han sido debidamente limpiados y tratados. Lo que se hará aquí es el estudio detallado de los valores faltantes, outliers y tendencias que pueden llegar a ser relevantes en el posterior análisis de la problemática y los KPI's.\n"
      ],
      "metadata": {
        "id": "5Jfrbwhj-QZu"
      }
    },
    {
      "cell_type": "code",
      "execution_count": null,
      "metadata": {
        "id": "95Ee-qaT5OqQ"
      },
      "outputs": [],
      "source": [
        "#Importo librerias\n",
        "import pandas as pd\n",
        "import numpy as np\n",
        "import random"
      ]
    },
    {
      "cell_type": "code",
      "source": [
        "#Leo los archivos csv\n",
        "Hechos = pd.read_csv('Hechos_EDA.csv', encoding='utf-8', sep=';')\n",
        "\n",
        "Victimas=pd.read_csv('Victimas_EDA.csv', encoding='utf-8', sep=';')\n"
      ],
      "metadata": {
        "id": "ZNi67dJE9cCo"
      },
      "execution_count": null,
      "outputs": []
    },
    {
      "cell_type": "markdown",
      "source": [
        "#**VALORES FALTANTES**\n",
        "\n",
        "Para empezar analizaremos los datos que nos faltan y veremos si los podemos obtener de alguna forma o si no son relevantes para nuestro análisis.\n",
        "\n",
        "Exploremos la columna de Hechos:"
      ],
      "metadata": {
        "id": "fTaZt5FJChyw"
      }
    },
    {
      "cell_type": "code",
      "source": [
        "Hechos.head(5)"
      ],
      "metadata": {
        "colab": {
          "base_uri": "https://localhost:8080/",
          "height": 434
        },
        "id": "4_sIc5LOE_n1",
        "outputId": "e56d01c8-12b8-47a7-e12b-95983a418362"
      },
      "execution_count": null,
      "outputs": [
        {
          "output_type": "execute_result",
          "data": {
            "text/plain": [
              "          ID  N_VICTIMAS   AÑO  MES HORA  \\\n",
              "0  2016-0001           1  2016    1    4   \n",
              "1  2016-0002           1  2016    1    1   \n",
              "2  2016-0003           1  2016    1    7   \n",
              "3  2016-0004           1  2016    1    0   \n",
              "4  2016-0005           1  2016    1    5   \n",
              "\n",
              "                             LUGAR_DEL_HECHO TIPO_DE_ENCUENTRO  COMUNA  \\\n",
              "0  AV PIEDRA BUENA Y AV FERNANDEZ DE LA CRUZ             CRUCE       8   \n",
              "1          AV GRAL PAZ  Y AV DE LOS CORRALES             CRUCE       9   \n",
              "2                         AV ENTRE RIOS 2034       ENTRE CALLE       1   \n",
              "3      AV LARRAZABAL Y GRAL VILLEGAS CONRADO             CRUCE       8   \n",
              "4  AV SAN JUAN Y PRESIDENTE LUIS SAENZ PEÑA              CRUCE       1   \n",
              "\n",
              "           X          Y VICTIMA    ACUSADO           BARRIO  \n",
              "0 -58.475340 -34.687570    MOTO       AUTO  VILLA RIACHUELO  \n",
              "1 -58.508775 -34.669777    AUTO  PASAJEROS          NO DATA  \n",
              "2 -58.390403 -34.631894    MOTO       AUTO     CONSTITUCION  \n",
              "3 -58.465039 -34.680930    MOTO    NO DATA     VILLA LUGANO  \n",
              "4 -58.387183 -34.622466    MOTO  PASAJEROS     CONSTITUCION  "
            ],
            "text/html": [
              "\n",
              "  <div id=\"df-f249f33a-25d1-4ad3-9c96-95d95c70d2eb\" class=\"colab-df-container\">\n",
              "    <div>\n",
              "<style scoped>\n",
              "    .dataframe tbody tr th:only-of-type {\n",
              "        vertical-align: middle;\n",
              "    }\n",
              "\n",
              "    .dataframe tbody tr th {\n",
              "        vertical-align: top;\n",
              "    }\n",
              "\n",
              "    .dataframe thead th {\n",
              "        text-align: right;\n",
              "    }\n",
              "</style>\n",
              "<table border=\"1\" class=\"dataframe\">\n",
              "  <thead>\n",
              "    <tr style=\"text-align: right;\">\n",
              "      <th></th>\n",
              "      <th>ID</th>\n",
              "      <th>N_VICTIMAS</th>\n",
              "      <th>AÑO</th>\n",
              "      <th>MES</th>\n",
              "      <th>HORA</th>\n",
              "      <th>LUGAR_DEL_HECHO</th>\n",
              "      <th>TIPO_DE_ENCUENTRO</th>\n",
              "      <th>COMUNA</th>\n",
              "      <th>X</th>\n",
              "      <th>Y</th>\n",
              "      <th>VICTIMA</th>\n",
              "      <th>ACUSADO</th>\n",
              "      <th>BARRIO</th>\n",
              "    </tr>\n",
              "  </thead>\n",
              "  <tbody>\n",
              "    <tr>\n",
              "      <th>0</th>\n",
              "      <td>2016-0001</td>\n",
              "      <td>1</td>\n",
              "      <td>2016</td>\n",
              "      <td>1</td>\n",
              "      <td>4</td>\n",
              "      <td>AV PIEDRA BUENA Y AV FERNANDEZ DE LA CRUZ</td>\n",
              "      <td>CRUCE</td>\n",
              "      <td>8</td>\n",
              "      <td>-58.475340</td>\n",
              "      <td>-34.687570</td>\n",
              "      <td>MOTO</td>\n",
              "      <td>AUTO</td>\n",
              "      <td>VILLA RIACHUELO</td>\n",
              "    </tr>\n",
              "    <tr>\n",
              "      <th>1</th>\n",
              "      <td>2016-0002</td>\n",
              "      <td>1</td>\n",
              "      <td>2016</td>\n",
              "      <td>1</td>\n",
              "      <td>1</td>\n",
              "      <td>AV GRAL PAZ  Y AV DE LOS CORRALES</td>\n",
              "      <td>CRUCE</td>\n",
              "      <td>9</td>\n",
              "      <td>-58.508775</td>\n",
              "      <td>-34.669777</td>\n",
              "      <td>AUTO</td>\n",
              "      <td>PASAJEROS</td>\n",
              "      <td>NO DATA</td>\n",
              "    </tr>\n",
              "    <tr>\n",
              "      <th>2</th>\n",
              "      <td>2016-0003</td>\n",
              "      <td>1</td>\n",
              "      <td>2016</td>\n",
              "      <td>1</td>\n",
              "      <td>7</td>\n",
              "      <td>AV ENTRE RIOS 2034</td>\n",
              "      <td>ENTRE CALLE</td>\n",
              "      <td>1</td>\n",
              "      <td>-58.390403</td>\n",
              "      <td>-34.631894</td>\n",
              "      <td>MOTO</td>\n",
              "      <td>AUTO</td>\n",
              "      <td>CONSTITUCION</td>\n",
              "    </tr>\n",
              "    <tr>\n",
              "      <th>3</th>\n",
              "      <td>2016-0004</td>\n",
              "      <td>1</td>\n",
              "      <td>2016</td>\n",
              "      <td>1</td>\n",
              "      <td>0</td>\n",
              "      <td>AV LARRAZABAL Y GRAL VILLEGAS CONRADO</td>\n",
              "      <td>CRUCE</td>\n",
              "      <td>8</td>\n",
              "      <td>-58.465039</td>\n",
              "      <td>-34.680930</td>\n",
              "      <td>MOTO</td>\n",
              "      <td>NO DATA</td>\n",
              "      <td>VILLA LUGANO</td>\n",
              "    </tr>\n",
              "    <tr>\n",
              "      <th>4</th>\n",
              "      <td>2016-0005</td>\n",
              "      <td>1</td>\n",
              "      <td>2016</td>\n",
              "      <td>1</td>\n",
              "      <td>5</td>\n",
              "      <td>AV SAN JUAN Y PRESIDENTE LUIS SAENZ PEÑA</td>\n",
              "      <td>CRUCE</td>\n",
              "      <td>1</td>\n",
              "      <td>-58.387183</td>\n",
              "      <td>-34.622466</td>\n",
              "      <td>MOTO</td>\n",
              "      <td>PASAJEROS</td>\n",
              "      <td>CONSTITUCION</td>\n",
              "    </tr>\n",
              "  </tbody>\n",
              "</table>\n",
              "</div>\n",
              "    <div class=\"colab-df-buttons\">\n",
              "\n",
              "  <div class=\"colab-df-container\">\n",
              "    <button class=\"colab-df-convert\" onclick=\"convertToInteractive('df-f249f33a-25d1-4ad3-9c96-95d95c70d2eb')\"\n",
              "            title=\"Convert this dataframe to an interactive table.\"\n",
              "            style=\"display:none;\">\n",
              "\n",
              "  <svg xmlns=\"http://www.w3.org/2000/svg\" height=\"24px\" viewBox=\"0 -960 960 960\">\n",
              "    <path d=\"M120-120v-720h720v720H120Zm60-500h600v-160H180v160Zm220 220h160v-160H400v160Zm0 220h160v-160H400v160ZM180-400h160v-160H180v160Zm440 0h160v-160H620v160ZM180-180h160v-160H180v160Zm440 0h160v-160H620v160Z\"/>\n",
              "  </svg>\n",
              "    </button>\n",
              "\n",
              "  <style>\n",
              "    .colab-df-container {\n",
              "      display:flex;\n",
              "      gap: 12px;\n",
              "    }\n",
              "\n",
              "    .colab-df-convert {\n",
              "      background-color: #E8F0FE;\n",
              "      border: none;\n",
              "      border-radius: 50%;\n",
              "      cursor: pointer;\n",
              "      display: none;\n",
              "      fill: #1967D2;\n",
              "      height: 32px;\n",
              "      padding: 0 0 0 0;\n",
              "      width: 32px;\n",
              "    }\n",
              "\n",
              "    .colab-df-convert:hover {\n",
              "      background-color: #E2EBFA;\n",
              "      box-shadow: 0px 1px 2px rgba(60, 64, 67, 0.3), 0px 1px 3px 1px rgba(60, 64, 67, 0.15);\n",
              "      fill: #174EA6;\n",
              "    }\n",
              "\n",
              "    .colab-df-buttons div {\n",
              "      margin-bottom: 4px;\n",
              "    }\n",
              "\n",
              "    [theme=dark] .colab-df-convert {\n",
              "      background-color: #3B4455;\n",
              "      fill: #D2E3FC;\n",
              "    }\n",
              "\n",
              "    [theme=dark] .colab-df-convert:hover {\n",
              "      background-color: #434B5C;\n",
              "      box-shadow: 0px 1px 3px 1px rgba(0, 0, 0, 0.15);\n",
              "      filter: drop-shadow(0px 1px 2px rgba(0, 0, 0, 0.3));\n",
              "      fill: #FFFFFF;\n",
              "    }\n",
              "  </style>\n",
              "\n",
              "    <script>\n",
              "      const buttonEl =\n",
              "        document.querySelector('#df-f249f33a-25d1-4ad3-9c96-95d95c70d2eb button.colab-df-convert');\n",
              "      buttonEl.style.display =\n",
              "        google.colab.kernel.accessAllowed ? 'block' : 'none';\n",
              "\n",
              "      async function convertToInteractive(key) {\n",
              "        const element = document.querySelector('#df-f249f33a-25d1-4ad3-9c96-95d95c70d2eb');\n",
              "        const dataTable =\n",
              "          await google.colab.kernel.invokeFunction('convertToInteractive',\n",
              "                                                    [key], {});\n",
              "        if (!dataTable) return;\n",
              "\n",
              "        const docLinkHtml = 'Like what you see? Visit the ' +\n",
              "          '<a target=\"_blank\" href=https://colab.research.google.com/notebooks/data_table.ipynb>data table notebook</a>'\n",
              "          + ' to learn more about interactive tables.';\n",
              "        element.innerHTML = '';\n",
              "        dataTable['output_type'] = 'display_data';\n",
              "        await google.colab.output.renderOutput(dataTable, element);\n",
              "        const docLink = document.createElement('div');\n",
              "        docLink.innerHTML = docLinkHtml;\n",
              "        element.appendChild(docLink);\n",
              "      }\n",
              "    </script>\n",
              "  </div>\n",
              "\n",
              "\n",
              "<div id=\"df-1144684a-90b5-41bd-9d62-cee6162b82e0\">\n",
              "  <button class=\"colab-df-quickchart\" onclick=\"quickchart('df-1144684a-90b5-41bd-9d62-cee6162b82e0')\"\n",
              "            title=\"Suggest charts\"\n",
              "            style=\"display:none;\">\n",
              "\n",
              "<svg xmlns=\"http://www.w3.org/2000/svg\" height=\"24px\"viewBox=\"0 0 24 24\"\n",
              "     width=\"24px\">\n",
              "    <g>\n",
              "        <path d=\"M19 3H5c-1.1 0-2 .9-2 2v14c0 1.1.9 2 2 2h14c1.1 0 2-.9 2-2V5c0-1.1-.9-2-2-2zM9 17H7v-7h2v7zm4 0h-2V7h2v10zm4 0h-2v-4h2v4z\"/>\n",
              "    </g>\n",
              "</svg>\n",
              "  </button>\n",
              "\n",
              "<style>\n",
              "  .colab-df-quickchart {\n",
              "      --bg-color: #E8F0FE;\n",
              "      --fill-color: #1967D2;\n",
              "      --hover-bg-color: #E2EBFA;\n",
              "      --hover-fill-color: #174EA6;\n",
              "      --disabled-fill-color: #AAA;\n",
              "      --disabled-bg-color: #DDD;\n",
              "  }\n",
              "\n",
              "  [theme=dark] .colab-df-quickchart {\n",
              "      --bg-color: #3B4455;\n",
              "      --fill-color: #D2E3FC;\n",
              "      --hover-bg-color: #434B5C;\n",
              "      --hover-fill-color: #FFFFFF;\n",
              "      --disabled-bg-color: #3B4455;\n",
              "      --disabled-fill-color: #666;\n",
              "  }\n",
              "\n",
              "  .colab-df-quickchart {\n",
              "    background-color: var(--bg-color);\n",
              "    border: none;\n",
              "    border-radius: 50%;\n",
              "    cursor: pointer;\n",
              "    display: none;\n",
              "    fill: var(--fill-color);\n",
              "    height: 32px;\n",
              "    padding: 0;\n",
              "    width: 32px;\n",
              "  }\n",
              "\n",
              "  .colab-df-quickchart:hover {\n",
              "    background-color: var(--hover-bg-color);\n",
              "    box-shadow: 0 1px 2px rgba(60, 64, 67, 0.3), 0 1px 3px 1px rgba(60, 64, 67, 0.15);\n",
              "    fill: var(--button-hover-fill-color);\n",
              "  }\n",
              "\n",
              "  .colab-df-quickchart-complete:disabled,\n",
              "  .colab-df-quickchart-complete:disabled:hover {\n",
              "    background-color: var(--disabled-bg-color);\n",
              "    fill: var(--disabled-fill-color);\n",
              "    box-shadow: none;\n",
              "  }\n",
              "\n",
              "  .colab-df-spinner {\n",
              "    border: 2px solid var(--fill-color);\n",
              "    border-color: transparent;\n",
              "    border-bottom-color: var(--fill-color);\n",
              "    animation:\n",
              "      spin 1s steps(1) infinite;\n",
              "  }\n",
              "\n",
              "  @keyframes spin {\n",
              "    0% {\n",
              "      border-color: transparent;\n",
              "      border-bottom-color: var(--fill-color);\n",
              "      border-left-color: var(--fill-color);\n",
              "    }\n",
              "    20% {\n",
              "      border-color: transparent;\n",
              "      border-left-color: var(--fill-color);\n",
              "      border-top-color: var(--fill-color);\n",
              "    }\n",
              "    30% {\n",
              "      border-color: transparent;\n",
              "      border-left-color: var(--fill-color);\n",
              "      border-top-color: var(--fill-color);\n",
              "      border-right-color: var(--fill-color);\n",
              "    }\n",
              "    40% {\n",
              "      border-color: transparent;\n",
              "      border-right-color: var(--fill-color);\n",
              "      border-top-color: var(--fill-color);\n",
              "    }\n",
              "    60% {\n",
              "      border-color: transparent;\n",
              "      border-right-color: var(--fill-color);\n",
              "    }\n",
              "    80% {\n",
              "      border-color: transparent;\n",
              "      border-right-color: var(--fill-color);\n",
              "      border-bottom-color: var(--fill-color);\n",
              "    }\n",
              "    90% {\n",
              "      border-color: transparent;\n",
              "      border-bottom-color: var(--fill-color);\n",
              "    }\n",
              "  }\n",
              "</style>\n",
              "\n",
              "  <script>\n",
              "    async function quickchart(key) {\n",
              "      const quickchartButtonEl =\n",
              "        document.querySelector('#' + key + ' button');\n",
              "      quickchartButtonEl.disabled = true;  // To prevent multiple clicks.\n",
              "      quickchartButtonEl.classList.add('colab-df-spinner');\n",
              "      try {\n",
              "        const charts = await google.colab.kernel.invokeFunction(\n",
              "            'suggestCharts', [key], {});\n",
              "      } catch (error) {\n",
              "        console.error('Error during call to suggestCharts:', error);\n",
              "      }\n",
              "      quickchartButtonEl.classList.remove('colab-df-spinner');\n",
              "      quickchartButtonEl.classList.add('colab-df-quickchart-complete');\n",
              "    }\n",
              "    (() => {\n",
              "      let quickchartButtonEl =\n",
              "        document.querySelector('#df-1144684a-90b5-41bd-9d62-cee6162b82e0 button');\n",
              "      quickchartButtonEl.style.display =\n",
              "        google.colab.kernel.accessAllowed ? 'block' : 'none';\n",
              "    })();\n",
              "  </script>\n",
              "</div>\n",
              "    </div>\n",
              "  </div>\n"
            ]
          },
          "metadata": {},
          "execution_count": 3
        }
      ]
    },
    {
      "cell_type": "markdown",
      "source": [
        "En el ETL se observó que hay pocos datos que faltan, sin embargo no se estudio en qué proporción nos afecta dicha carencia de datos. Estudiemos las columnas de coordenadas:"
      ],
      "metadata": {
        "id": "8BtcHAeiFJ6u"
      }
    },
    {
      "cell_type": "code",
      "source": [
        "print(Hechos['Y'].drop_duplicates().sort_values())"
      ],
      "metadata": {
        "colab": {
          "base_uri": "https://localhost:8080/"
        },
        "id": "2jGLpxC5FDBH",
        "outputId": "165b86f0-7623-444f-a8ad-552d1e2d3867"
      },
      "execution_count": null,
      "outputs": [
        {
          "output_type": "stream",
          "name": "stdout",
          "text": [
            "17    -34.705250\n",
            "22    -34.698438\n",
            "372   -34.696402\n",
            "249   -34.693741\n",
            "425   -34.691568\n",
            "         ...    \n",
            "435   -34.540486\n",
            "463   -34.538257\n",
            "32    -34.534769\n",
            "490   -34.534654\n",
            "38           NaN\n",
            "Name: Y, Length: 605, dtype: float64\n"
          ]
        }
      ]
    },
    {
      "cell_type": "code",
      "source": [
        "print(Hechos['X'].drop_duplicates().sort_values())"
      ],
      "metadata": {
        "colab": {
          "base_uri": "https://localhost:8080/"
        },
        "id": "1mRwDtDB9yUD",
        "outputId": "45d44720-c5a4-4052-f66a-e2bec004b1b0"
      },
      "execution_count": null,
      "outputs": [
        {
          "output_type": "stream",
          "name": "stdout",
          "text": [
            "400   -58.529942\n",
            "664   -58.529337\n",
            "76    -58.529329\n",
            "662   -58.529311\n",
            "57    -58.529280\n",
            "         ...    \n",
            "113   -58.359750\n",
            "170   -58.358815\n",
            "543   -58.357912\n",
            "508   -58.356082\n",
            "38           NaN\n",
            "Name: X, Length: 605, dtype: float64\n"
          ]
        }
      ]
    },
    {
      "cell_type": "markdown",
      "source": [
        "Como se puede observar las dos coordenadas tienen elementos NaN, veamos qué porcentaje representan."
      ],
      "metadata": {
        "id": "Cf-o6XTwF2Tq"
      }
    },
    {
      "cell_type": "code",
      "source": [
        "Hechos['X'].fillna('NO DATA',inplace=True)\n",
        "\n",
        "print(f\"El porcentaje de datos faltantes es: {(Hechos[Hechos['X']=='NO DATA'].shape[0]/Hechos.shape[0])*100}%\")"
      ],
      "metadata": {
        "colab": {
          "base_uri": "https://localhost:8080/"
        },
        "id": "1HcWEQRNFrf7",
        "outputId": "e64958da-0459-4fad-bd0e-132441e8da34"
      },
      "execution_count": null,
      "outputs": [
        {
          "output_type": "stream",
          "name": "stdout",
          "text": [
            "El porcentaje de datos faltantes es: 1.7241379310344827%\n"
          ]
        }
      ]
    },
    {
      "cell_type": "code",
      "source": [
        "Hechos['Y'].fillna('NO DATA',inplace=True)\n",
        "\n",
        "print(f\"El porcentaje de datos faltantes es: {(Hechos[Hechos['Y']=='NO DATA'].shape[0]/Hechos.shape[0])*100}%\")"
      ],
      "metadata": {
        "colab": {
          "base_uri": "https://localhost:8080/"
        },
        "id": "d_UiBnCxHigF",
        "outputId": "81e6ce57-cb78-46b5-afb7-6735c88a7a88"
      },
      "execution_count": null,
      "outputs": [
        {
          "output_type": "stream",
          "name": "stdout",
          "text": [
            "El porcentaje de datos faltantes es: 1.7241379310344827%\n"
          ]
        }
      ]
    },
    {
      "cell_type": "markdown",
      "source": [
        "Como se puede observar en las dos columnas los datos faltantes corresponden al mismo porcentaje:1.72%. Una proporción bastante aceptable y que no afectará significativamente nuestras conclusiones.\n",
        "\n",
        "Ahora observemos las columnas de 'VICTIMA' y 'ACUSADO':"
      ],
      "metadata": {
        "id": "4VDK-jKMJLve"
      }
    },
    {
      "cell_type": "code",
      "source": [
        "print(f\"El porcentaje de datos faltantes es:{(Hechos[Hechos['VICTIMA']=='NO DATA'].shape[0])*100/Hechos.shape[0]}%\")"
      ],
      "metadata": {
        "colab": {
          "base_uri": "https://localhost:8080/"
        },
        "id": "2UcQIHS7JJoy",
        "outputId": "d648df09-3aac-4cb9-fac2-73cfaf174769"
      },
      "execution_count": null,
      "outputs": [
        {
          "output_type": "stream",
          "name": "stdout",
          "text": [
            "El porcentaje de datos faltantes es:1.293103448275862%\n"
          ]
        }
      ]
    },
    {
      "cell_type": "code",
      "source": [
        "print(f\"El porcentaje de datos faltantes es:{(Hechos[Hechos['ACUSADO']=='NO DATA'].shape[0])*100/Hechos.shape[0]}%\")"
      ],
      "metadata": {
        "colab": {
          "base_uri": "https://localhost:8080/"
        },
        "id": "6-wIZyCYTsMh",
        "outputId": "ff495ba5-ce31-438d-da14-a2d661915145"
      },
      "execution_count": null,
      "outputs": [
        {
          "output_type": "stream",
          "name": "stdout",
          "text": [
            "El porcentaje de datos faltantes es:3.3045977011494254%\n"
          ]
        }
      ]
    },
    {
      "cell_type": "markdown",
      "source": [
        "Los datos están casi completos, los datos faltantes en la parte de los acusados y victimas puede deberse a accidentes en los que no hay un claro culpable, fallas en los semáforos o imprudencias por ambas partes.\n",
        "\n",
        "Por último veremos la columna de 'BARRIO' que no estaba en el dataset original, fué recopilado de un dataset de poligonos perimetrales y por medio de una función se determinó a qué barrio pertenecian las coordenadas del accidente."
      ],
      "metadata": {
        "id": "n_pb1FtiTwqm"
      }
    },
    {
      "cell_type": "code",
      "source": [
        "print(f\"El porcentaje de datos faltantes es:{(Hechos[Hechos['BARRIO']=='NO DATA'].shape[0]/Hechos.shape[0])*100}%\")"
      ],
      "metadata": {
        "colab": {
          "base_uri": "https://localhost:8080/"
        },
        "id": "EVFinH6fz7wZ",
        "outputId": "28453667-d976-4283-cff6-f9df63865704"
      },
      "execution_count": null,
      "outputs": [
        {
          "output_type": "stream",
          "name": "stdout",
          "text": [
            "El porcentaje de datos faltantes es:6.17816091954023%\n"
          ]
        }
      ]
    },
    {
      "cell_type": "markdown",
      "source": [
        "Un 6.18% de los datos aproximadamente, sin embargo esto ocurre principalmente en autopistas como la General Paz donde se separa la Ciudad Autónoma de Buenos Aires y la Provincia de Buenos Aires; por lo tanto el algoritmo no puede determinar con precisión a qué barrio pertenece. De cualquier forma no es de preocupación la falta de un pequeño porcentaje de estos datos.\n",
        "\n",
        "Ahora estudiemos el Dataset de 'Víctimas' para explorar los datos faltantes."
      ],
      "metadata": {
        "id": "LzGWbmDX02lG"
      }
    },
    {
      "cell_type": "code",
      "source": [
        "Victimas.head(5)"
      ],
      "metadata": {
        "colab": {
          "base_uri": "https://localhost:8080/",
          "height": 206
        },
        "id": "YolQ3if602Je",
        "outputId": "f1031865-8835-4cec-f822-0724c3aae5ea"
      },
      "execution_count": null,
      "outputs": [
        {
          "output_type": "execute_result",
          "data": {
            "text/plain": [
              "          ID   AÑO  MES        ROL VICTIMA       SEXO EDAD\n",
              "0  2016-0001  2016    1  CONDUCTOR    MOTO  MASCULINO   19\n",
              "1  2016-0002  2016    1  CONDUCTOR    AUTO  MASCULINO   70\n",
              "2  2016-0003  2016    1  CONDUCTOR    MOTO  MASCULINO   30\n",
              "3  2016-0004  2016    1  CONDUCTOR    MOTO  MASCULINO   18\n",
              "4  2016-0005  2016    1  CONDUCTOR    MOTO  MASCULINO   29"
            ],
            "text/html": [
              "\n",
              "  <div id=\"df-3717c26f-86ea-4fb9-ad22-974873a06696\" class=\"colab-df-container\">\n",
              "    <div>\n",
              "<style scoped>\n",
              "    .dataframe tbody tr th:only-of-type {\n",
              "        vertical-align: middle;\n",
              "    }\n",
              "\n",
              "    .dataframe tbody tr th {\n",
              "        vertical-align: top;\n",
              "    }\n",
              "\n",
              "    .dataframe thead th {\n",
              "        text-align: right;\n",
              "    }\n",
              "</style>\n",
              "<table border=\"1\" class=\"dataframe\">\n",
              "  <thead>\n",
              "    <tr style=\"text-align: right;\">\n",
              "      <th></th>\n",
              "      <th>ID</th>\n",
              "      <th>AÑO</th>\n",
              "      <th>MES</th>\n",
              "      <th>ROL</th>\n",
              "      <th>VICTIMA</th>\n",
              "      <th>SEXO</th>\n",
              "      <th>EDAD</th>\n",
              "    </tr>\n",
              "  </thead>\n",
              "  <tbody>\n",
              "    <tr>\n",
              "      <th>0</th>\n",
              "      <td>2016-0001</td>\n",
              "      <td>2016</td>\n",
              "      <td>1</td>\n",
              "      <td>CONDUCTOR</td>\n",
              "      <td>MOTO</td>\n",
              "      <td>MASCULINO</td>\n",
              "      <td>19</td>\n",
              "    </tr>\n",
              "    <tr>\n",
              "      <th>1</th>\n",
              "      <td>2016-0002</td>\n",
              "      <td>2016</td>\n",
              "      <td>1</td>\n",
              "      <td>CONDUCTOR</td>\n",
              "      <td>AUTO</td>\n",
              "      <td>MASCULINO</td>\n",
              "      <td>70</td>\n",
              "    </tr>\n",
              "    <tr>\n",
              "      <th>2</th>\n",
              "      <td>2016-0003</td>\n",
              "      <td>2016</td>\n",
              "      <td>1</td>\n",
              "      <td>CONDUCTOR</td>\n",
              "      <td>MOTO</td>\n",
              "      <td>MASCULINO</td>\n",
              "      <td>30</td>\n",
              "    </tr>\n",
              "    <tr>\n",
              "      <th>3</th>\n",
              "      <td>2016-0004</td>\n",
              "      <td>2016</td>\n",
              "      <td>1</td>\n",
              "      <td>CONDUCTOR</td>\n",
              "      <td>MOTO</td>\n",
              "      <td>MASCULINO</td>\n",
              "      <td>18</td>\n",
              "    </tr>\n",
              "    <tr>\n",
              "      <th>4</th>\n",
              "      <td>2016-0005</td>\n",
              "      <td>2016</td>\n",
              "      <td>1</td>\n",
              "      <td>CONDUCTOR</td>\n",
              "      <td>MOTO</td>\n",
              "      <td>MASCULINO</td>\n",
              "      <td>29</td>\n",
              "    </tr>\n",
              "  </tbody>\n",
              "</table>\n",
              "</div>\n",
              "    <div class=\"colab-df-buttons\">\n",
              "\n",
              "  <div class=\"colab-df-container\">\n",
              "    <button class=\"colab-df-convert\" onclick=\"convertToInteractive('df-3717c26f-86ea-4fb9-ad22-974873a06696')\"\n",
              "            title=\"Convert this dataframe to an interactive table.\"\n",
              "            style=\"display:none;\">\n",
              "\n",
              "  <svg xmlns=\"http://www.w3.org/2000/svg\" height=\"24px\" viewBox=\"0 -960 960 960\">\n",
              "    <path d=\"M120-120v-720h720v720H120Zm60-500h600v-160H180v160Zm220 220h160v-160H400v160Zm0 220h160v-160H400v160ZM180-400h160v-160H180v160Zm440 0h160v-160H620v160ZM180-180h160v-160H180v160Zm440 0h160v-160H620v160Z\"/>\n",
              "  </svg>\n",
              "    </button>\n",
              "\n",
              "  <style>\n",
              "    .colab-df-container {\n",
              "      display:flex;\n",
              "      gap: 12px;\n",
              "    }\n",
              "\n",
              "    .colab-df-convert {\n",
              "      background-color: #E8F0FE;\n",
              "      border: none;\n",
              "      border-radius: 50%;\n",
              "      cursor: pointer;\n",
              "      display: none;\n",
              "      fill: #1967D2;\n",
              "      height: 32px;\n",
              "      padding: 0 0 0 0;\n",
              "      width: 32px;\n",
              "    }\n",
              "\n",
              "    .colab-df-convert:hover {\n",
              "      background-color: #E2EBFA;\n",
              "      box-shadow: 0px 1px 2px rgba(60, 64, 67, 0.3), 0px 1px 3px 1px rgba(60, 64, 67, 0.15);\n",
              "      fill: #174EA6;\n",
              "    }\n",
              "\n",
              "    .colab-df-buttons div {\n",
              "      margin-bottom: 4px;\n",
              "    }\n",
              "\n",
              "    [theme=dark] .colab-df-convert {\n",
              "      background-color: #3B4455;\n",
              "      fill: #D2E3FC;\n",
              "    }\n",
              "\n",
              "    [theme=dark] .colab-df-convert:hover {\n",
              "      background-color: #434B5C;\n",
              "      box-shadow: 0px 1px 3px 1px rgba(0, 0, 0, 0.15);\n",
              "      filter: drop-shadow(0px 1px 2px rgba(0, 0, 0, 0.3));\n",
              "      fill: #FFFFFF;\n",
              "    }\n",
              "  </style>\n",
              "\n",
              "    <script>\n",
              "      const buttonEl =\n",
              "        document.querySelector('#df-3717c26f-86ea-4fb9-ad22-974873a06696 button.colab-df-convert');\n",
              "      buttonEl.style.display =\n",
              "        google.colab.kernel.accessAllowed ? 'block' : 'none';\n",
              "\n",
              "      async function convertToInteractive(key) {\n",
              "        const element = document.querySelector('#df-3717c26f-86ea-4fb9-ad22-974873a06696');\n",
              "        const dataTable =\n",
              "          await google.colab.kernel.invokeFunction('convertToInteractive',\n",
              "                                                    [key], {});\n",
              "        if (!dataTable) return;\n",
              "\n",
              "        const docLinkHtml = 'Like what you see? Visit the ' +\n",
              "          '<a target=\"_blank\" href=https://colab.research.google.com/notebooks/data_table.ipynb>data table notebook</a>'\n",
              "          + ' to learn more about interactive tables.';\n",
              "        element.innerHTML = '';\n",
              "        dataTable['output_type'] = 'display_data';\n",
              "        await google.colab.output.renderOutput(dataTable, element);\n",
              "        const docLink = document.createElement('div');\n",
              "        docLink.innerHTML = docLinkHtml;\n",
              "        element.appendChild(docLink);\n",
              "      }\n",
              "    </script>\n",
              "  </div>\n",
              "\n",
              "\n",
              "<div id=\"df-e4099af2-9e02-401f-8b8f-f6d780dba11b\">\n",
              "  <button class=\"colab-df-quickchart\" onclick=\"quickchart('df-e4099af2-9e02-401f-8b8f-f6d780dba11b')\"\n",
              "            title=\"Suggest charts\"\n",
              "            style=\"display:none;\">\n",
              "\n",
              "<svg xmlns=\"http://www.w3.org/2000/svg\" height=\"24px\"viewBox=\"0 0 24 24\"\n",
              "     width=\"24px\">\n",
              "    <g>\n",
              "        <path d=\"M19 3H5c-1.1 0-2 .9-2 2v14c0 1.1.9 2 2 2h14c1.1 0 2-.9 2-2V5c0-1.1-.9-2-2-2zM9 17H7v-7h2v7zm4 0h-2V7h2v10zm4 0h-2v-4h2v4z\"/>\n",
              "    </g>\n",
              "</svg>\n",
              "  </button>\n",
              "\n",
              "<style>\n",
              "  .colab-df-quickchart {\n",
              "      --bg-color: #E8F0FE;\n",
              "      --fill-color: #1967D2;\n",
              "      --hover-bg-color: #E2EBFA;\n",
              "      --hover-fill-color: #174EA6;\n",
              "      --disabled-fill-color: #AAA;\n",
              "      --disabled-bg-color: #DDD;\n",
              "  }\n",
              "\n",
              "  [theme=dark] .colab-df-quickchart {\n",
              "      --bg-color: #3B4455;\n",
              "      --fill-color: #D2E3FC;\n",
              "      --hover-bg-color: #434B5C;\n",
              "      --hover-fill-color: #FFFFFF;\n",
              "      --disabled-bg-color: #3B4455;\n",
              "      --disabled-fill-color: #666;\n",
              "  }\n",
              "\n",
              "  .colab-df-quickchart {\n",
              "    background-color: var(--bg-color);\n",
              "    border: none;\n",
              "    border-radius: 50%;\n",
              "    cursor: pointer;\n",
              "    display: none;\n",
              "    fill: var(--fill-color);\n",
              "    height: 32px;\n",
              "    padding: 0;\n",
              "    width: 32px;\n",
              "  }\n",
              "\n",
              "  .colab-df-quickchart:hover {\n",
              "    background-color: var(--hover-bg-color);\n",
              "    box-shadow: 0 1px 2px rgba(60, 64, 67, 0.3), 0 1px 3px 1px rgba(60, 64, 67, 0.15);\n",
              "    fill: var(--button-hover-fill-color);\n",
              "  }\n",
              "\n",
              "  .colab-df-quickchart-complete:disabled,\n",
              "  .colab-df-quickchart-complete:disabled:hover {\n",
              "    background-color: var(--disabled-bg-color);\n",
              "    fill: var(--disabled-fill-color);\n",
              "    box-shadow: none;\n",
              "  }\n",
              "\n",
              "  .colab-df-spinner {\n",
              "    border: 2px solid var(--fill-color);\n",
              "    border-color: transparent;\n",
              "    border-bottom-color: var(--fill-color);\n",
              "    animation:\n",
              "      spin 1s steps(1) infinite;\n",
              "  }\n",
              "\n",
              "  @keyframes spin {\n",
              "    0% {\n",
              "      border-color: transparent;\n",
              "      border-bottom-color: var(--fill-color);\n",
              "      border-left-color: var(--fill-color);\n",
              "    }\n",
              "    20% {\n",
              "      border-color: transparent;\n",
              "      border-left-color: var(--fill-color);\n",
              "      border-top-color: var(--fill-color);\n",
              "    }\n",
              "    30% {\n",
              "      border-color: transparent;\n",
              "      border-left-color: var(--fill-color);\n",
              "      border-top-color: var(--fill-color);\n",
              "      border-right-color: var(--fill-color);\n",
              "    }\n",
              "    40% {\n",
              "      border-color: transparent;\n",
              "      border-right-color: var(--fill-color);\n",
              "      border-top-color: var(--fill-color);\n",
              "    }\n",
              "    60% {\n",
              "      border-color: transparent;\n",
              "      border-right-color: var(--fill-color);\n",
              "    }\n",
              "    80% {\n",
              "      border-color: transparent;\n",
              "      border-right-color: var(--fill-color);\n",
              "      border-bottom-color: var(--fill-color);\n",
              "    }\n",
              "    90% {\n",
              "      border-color: transparent;\n",
              "      border-bottom-color: var(--fill-color);\n",
              "    }\n",
              "  }\n",
              "</style>\n",
              "\n",
              "  <script>\n",
              "    async function quickchart(key) {\n",
              "      const quickchartButtonEl =\n",
              "        document.querySelector('#' + key + ' button');\n",
              "      quickchartButtonEl.disabled = true;  // To prevent multiple clicks.\n",
              "      quickchartButtonEl.classList.add('colab-df-spinner');\n",
              "      try {\n",
              "        const charts = await google.colab.kernel.invokeFunction(\n",
              "            'suggestCharts', [key], {});\n",
              "      } catch (error) {\n",
              "        console.error('Error during call to suggestCharts:', error);\n",
              "      }\n",
              "      quickchartButtonEl.classList.remove('colab-df-spinner');\n",
              "      quickchartButtonEl.classList.add('colab-df-quickchart-complete');\n",
              "    }\n",
              "    (() => {\n",
              "      let quickchartButtonEl =\n",
              "        document.querySelector('#df-e4099af2-9e02-401f-8b8f-f6d780dba11b button');\n",
              "      quickchartButtonEl.style.display =\n",
              "        google.colab.kernel.accessAllowed ? 'block' : 'none';\n",
              "    })();\n",
              "  </script>\n",
              "</div>\n",
              "    </div>\n",
              "  </div>\n"
            ]
          },
          "metadata": {},
          "execution_count": 11
        }
      ]
    },
    {
      "cell_type": "code",
      "source": [
        "print(\"ROL\")\n",
        "print(f\"El porcentaje de datos faltantes es:{(Victimas[Victimas['ROL']=='NO DATA'].shape[0]/Victimas.shape[0])*100}%\")\n",
        "print(\"VICTIMA\")\n",
        "print(f\"El porcentaje de datos faltantes es:{(Victimas[Victimas['VICTIMA']=='NO DATA'].shape[0]/Victimas.shape[0])*100}%\")\n",
        "print(\"SEXO\")\n",
        "print(f\"El porcentaje de datos faltantes es:{(Victimas[Victimas['SEXO']=='NO DATA'].shape[0]/Victimas.shape[0])*100}%\")\n",
        "print(\"EDAD\")\n",
        "print(f\"El porcentaje de datos faltantes es:{(Victimas[Victimas['EDAD']=='NO DATA'].shape[0]/Victimas.shape[0])*100}%\")"
      ],
      "metadata": {
        "colab": {
          "base_uri": "https://localhost:8080/"
        },
        "id": "xuFudv2G134j",
        "outputId": "573b0c70-a5fd-4a54-91f7-5be3e398a3fb"
      },
      "execution_count": null,
      "outputs": [
        {
          "output_type": "stream",
          "name": "stdout",
          "text": [
            "ROL\n",
            "El porcentaje de datos faltantes es:1.5341701534170153%\n",
            "VICTIMA\n",
            "El porcentaje de datos faltantes es:1.2552301255230125%\n",
            "SEXO\n",
            "El porcentaje de datos faltantes es:0.8368200836820083%\n",
            "EDAD\n",
            "El porcentaje de datos faltantes es:7.391910739191074%\n"
          ]
        }
      ]
    },
    {
      "cell_type": "markdown",
      "source": [
        "En este caso trataré de llenar los datos de la edad, en base a la distribución estadística que esta posea; observemos un histograma para aclarar el panorama:"
      ],
      "metadata": {
        "id": "ZKeKi9A55JcZ"
      }
    },
    {
      "cell_type": "code",
      "source": [
        "#Importo la libreria matplotlib\n",
        "import matplotlib.pyplot as plt\n"
      ],
      "metadata": {
        "id": "MWn0xgnX5FRF"
      },
      "execution_count": null,
      "outputs": []
    },
    {
      "cell_type": "code",
      "source": [
        "#Grafico un histograma de edades sin tener en cuenta 'NO DATA'\n",
        "\n",
        "bins = range(0,110,10)\n",
        "\n",
        "plt.hist(Victimas[Victimas['EDAD']!='NO DATA']['EDAD'], bins=bins, edgecolor='black')\n",
        "\n",
        "plt.title('Distribución de Edades')\n",
        "plt.xlabel('Edad')\n",
        "plt.ylabel('Frecuencia')\n",
        "interval_labels = [f'{bins[i]}' for i in range(len(bins)-1)]\n",
        "plt.xticks(bins[:-1], interval_labels)\n",
        "\n",
        "plt.show()"
      ],
      "metadata": {
        "colab": {
          "base_uri": "https://localhost:8080/",
          "height": 472
        },
        "id": "6c8VbjGb41o6",
        "outputId": "3836aab1-1e7d-4662-bcc7-4c7a780bb0b8"
      },
      "execution_count": null,
      "outputs": [
        {
          "output_type": "display_data",
          "data": {
            "text/plain": [
              "<Figure size 640x480 with 1 Axes>"
            ],
            "image/png": "[encoded data removed]"
          },
          "metadata": {}
        }
      ]
    },
    {
      "cell_type": "markdown",
      "source": [
        "Como podemos observar, la mayor parte de los accidentes fatales le ocurren a la gente menor de 60 años, vamos a calcular qué porcentaje exacto de los datos representa ese sector sin tener en cuenta datos faltantes."
      ],
      "metadata": {
        "id": "uumZHkJK9Bb6"
      }
    },
    {
      "cell_type": "code",
      "source": [
        "Victimas_sin_faltantes=Victimas[Victimas['EDAD']!='NO DATA']\n",
        "Victimas_sin_faltantes['EDAD']=Victimas_sin_faltantes['EDAD'].astype(int)\n",
        "\n",
        "print(f\"{(Victimas_sin_faltantes[Victimas_sin_faltantes['EDAD']<=60].shape[0]/Victimas_sin_faltantes.shape[0])*100}%\")"
      ],
      "metadata": {
        "colab": {
          "base_uri": "https://localhost:8080/"
        },
        "id": "fOvvnk0B85RS",
        "outputId": "442a6426-20b2-474c-fb65-9b7eadbb6e19"
      },
      "execution_count": null,
      "outputs": [
        {
          "output_type": "stream",
          "name": "stdout",
          "text": [
            "81.32530120481928%\n"
          ]
        },
        {
          "output_type": "stream",
          "name": "stderr",
          "text": [
            "<ipython-input-15-3628a6634332>:2: SettingWithCopyWarning: \n",
            "A value is trying to be set on a copy of a slice from a DataFrame.\n",
            "Try using .loc[row_indexer,col_indexer] = value instead\n",
            "\n",
            "See the caveats in the documentation: https://pandas.pydata.org/pandas-docs/stable/user_guide/indexing.html#returning-a-view-versus-a-copy\n",
            "  Victimas_sin_faltantes['EDAD']=Victimas_sin_faltantes['EDAD'].astype(int)\n"
          ]
        }
      ]
    },
    {
      "cell_type": "markdown",
      "source": [
        "Se concluye que aproximadamente el 81.33% de los accidentes le ocurren a personas menores de 60 años. Lo que voy a hacer ahora es asignarle un valor aleatorio a los datos faltantes entre 1 y 60 años."
      ],
      "metadata": {
        "id": "p0CFIh1K_WT6"
      }
    },
    {
      "cell_type": "code",
      "source": [
        "# Identificar las filas con 'NO DATA'\n",
        "condicion = (Victimas['EDAD'] == 'NO DATA')\n",
        "\n",
        "# Obtener la cantidad de 'NO DATA'\n",
        "num_no_data = sum(condicion)\n",
        "\n",
        "# Generar números aleatorios solo para las filas con 'NO DATA'\n",
        "numeros_aleatorios = np.random.randint(1, 61, num_no_data)\n",
        "\n",
        "# Asignar los números aleatorios a las filas con 'NO DATA'\n",
        "Victimas.loc[condicion, 'EDAD'] = numeros_aleatorios\n",
        "\n",
        "Victimas['EDAD']=Victimas['EDAD'].astype(str)\n"
      ],
      "metadata": {
        "id": "STZJr5rC_VxQ"
      },
      "execution_count": null,
      "outputs": []
    },
    {
      "cell_type": "markdown",
      "source": [
        "Grafiquemos de nuevo el histograma para observar los cambios:"
      ],
      "metadata": {
        "id": "lgIPiJrQAujj"
      }
    },
    {
      "cell_type": "code",
      "source": [
        "# Histograma de edades completo\n",
        "\n",
        "bins = range(0,110,10)\n",
        "\n",
        "plt.hist(Victimas['EDAD'], bins=bins, edgecolor='black')\n",
        "\n",
        "plt.title('Distribución de Edades')\n",
        "plt.xlabel('Edad')\n",
        "plt.ylabel('Frecuencia')\n",
        "interval_labels = [f'{bins[i]}' for i in range(len(bins)-1)]\n",
        "plt.xticks(bins[:-1], interval_labels)\n",
        "\n",
        "plt.show()"
      ],
      "metadata": {
        "colab": {
          "base_uri": "https://localhost:8080/",
          "height": 472
        },
        "id": "5g1eKm5uAsvR",
        "outputId": "ad6a4610-3e3b-479c-f9a4-06bd0912a3f4"
      },
      "execution_count": null,
      "outputs": [
        {
          "output_type": "display_data",
          "data": {
            "text/plain": [
              "<Figure size 640x480 with 1 Axes>"
            ],
            "image/png": "[encoded data removed]"
          },
          "metadata": {}
        }
      ]
    },
    {
      "cell_type": "markdown",
      "source": [
        "#**EXPLORACIÓN DE PATRONES**\n",
        "\n",
        "Ahora vamos a observar que patrones encontramos que puedan ser relevantes en el Dashboard, a continuación se muestra un histograma de los vehículos que más sufren un accidente mortal."
      ],
      "metadata": {
        "id": "Th8cmCLh-wGU"
      }
    },
    {
      "cell_type": "code",
      "source": [
        " # Contar la frecuencia de cada categoría\n",
        "counts = Victimas['VICTIMA'].value_counts()\n",
        "\n",
        "# Obtener las categorías y los colores\n",
        "categories = counts.index\n",
        "colors = plt.cm.viridis(np.linspace(0, 1, len(categories)))\n",
        "\n",
        "# Configurar el ancho de las barras y el espacio entre ellas\n",
        "bar_width = 0.4\n",
        "bar_space = 0.8\n",
        "\n",
        "# Crear un histograma de barras sin agrupar\n",
        "fig, ax = plt.subplots()\n",
        "for i, category in enumerate(categories):\n",
        "    category_data = Victimas[Victimas['VICTIMA'] == category]\n",
        "    positions = i * (bar_width + bar_space)\n",
        "    ax.bar(positions, len(category_data), label=category, color=colors[i], width=bar_width, edgecolor='black')\n",
        "\n",
        "# Ajustar el tamaño de la letra del eje x\n",
        "ax.tick_params(axis='x', labelsize=7)\n",
        "\n",
        "# Añadir etiquetas y título\n",
        "ax.set_xlabel('Vehiculo')\n",
        "ax.set_ylabel('Frecuencia')\n",
        "ax.set_title('Histograma de Víctimas')\n",
        "ax.set_xticks(np.arange(len(categories)) * (bar_width + bar_space) + (bar_width / 2))\n",
        "ax.set_xticklabels(categories)\n",
        "ax.legend()\n",
        "\n",
        "# Mostrar el histograma\n",
        "plt.show()"
      ],
      "metadata": {
        "colab": {
          "base_uri": "https://localhost:8080/",
          "height": 468
        },
        "id": "FrsHWRTliyXS",
        "outputId": "71c0e460-0fa0-4097-f93d-49ee4e5571a0"
      },
      "execution_count": null,
      "outputs": [
        {
          "output_type": "display_data",
          "data": {
            "text/plain": [
              "<Figure size 640x480 with 1 Axes>"
            ],
            "image/png": "[encoded data removed]"
          },
          "metadata": {}
        }
      ]
    },
    {
      "cell_type": "markdown",
      "source": [
        "Aquí ya podemos ver un patrón previsible, los motociclistas son las principales víctimas de los accidentes viales seguida de los peatones. Así que nuestro futuro análisis debería enforcarse en atacar estos dos sectores.\n",
        "\n",
        "Ahora veamos quienes son los principales acusados de estos accidentes."
      ],
      "metadata": {
        "id": "OK0X8lVMCTIl"
      }
    },
    {
      "cell_type": "code",
      "source": [
        "# Contar la frecuencia de cada categoría\n",
        "counts = Hechos['ACUSADO'].value_counts()\n",
        "\n",
        "# Obtener las categorías y los colores\n",
        "categories = counts.index\n",
        "colors = plt.cm.viridis(np.linspace(0, 1, len(categories)))\n",
        "\n",
        "# Configurar el ancho de las barras y el espacio entre ellas\n",
        "bar_width = 0.3\n",
        "bar_space = 1.8\n",
        "\n",
        "# Crear un histograma de barras sin agrupar\n",
        "fig, ax = plt.subplots()\n",
        "for i, category in enumerate(categories):\n",
        "    category_data = Hechos[Hechos['ACUSADO'] == category]\n",
        "    positions = i * (bar_width + bar_space)\n",
        "    ax.bar(positions, len(category_data), label=category, color=colors[i], width=bar_width, edgecolor='black')\n",
        "\n",
        "# Ajustar el tamaño de la letra del eje x\n",
        "ax.tick_params(axis='x', labelsize=6)\n",
        "\n",
        "# Añadir etiquetas y título\n",
        "ax.set_xlabel('Vehiculo')\n",
        "ax.set_ylabel('Frecuencia')\n",
        "ax.set_title('Histograma de Acusados')\n",
        "ax.set_xticks(np.arange(len(categories)) * (bar_width + bar_space) + (bar_width / 2))\n",
        "ax.set_xticklabels(categories)\n",
        "ax.legend()\n",
        "\n",
        "# Mostrar el histograma\n",
        "plt.show()"
      ],
      "metadata": {
        "colab": {
          "base_uri": "https://localhost:8080/",
          "height": 467
        },
        "id": "NnpICcsaFzfa",
        "outputId": "d50f81df-445a-48ff-8737-0a8ef5fe72a2"
      },
      "execution_count": null,
      "outputs": [
        {
          "output_type": "display_data",
          "data": {
            "text/plain": [
              "<Figure size 640x480 with 1 Axes>"
            ],
            "image/png": "[encoded data removed]"
          },
          "metadata": {}
        }
      ]
    },
    {
      "cell_type": "markdown",
      "source": [
        "Se puede ver que los principales causantes de los accidentes viales corresponden a Autos, los mismos pasajeros y a Vechículos con cargas pesadas; seguramente estos sean los tres tipos de acusados que contemplaremos en un posterior análisis. Para finalizar crearemos una columna en el Dataset 'Hechos' en el cual separemos las horas por franja horaria con la siguiente convención:\n",
        "\n",
        "**Mañana:**De 00 a 12.\n",
        "\n",
        "**Tarde:** De 12 a 19.\n",
        "\n",
        "**Noche:** De 19 a 24."
      ],
      "metadata": {
        "id": "UoiAlKw5HWBq"
      }
    },
    {
      "cell_type": "code",
      "source": [
        "Hechos['HORA'] = Hechos['HORA'].replace('SD', np.nan)\n",
        "\n",
        "Hechos['HORA'] = Hechos['HORA'].fillna(-1).astype(int)\n",
        "\n",
        "Hechos['HORA']=Hechos['HORA'].astype(int)\n",
        "\n",
        "# Crear la columna 'Franja' basada en la columna 'Hora'\n",
        "Hechos['FRANJA'] = pd.cut(Hechos['HORA'], bins=[0, 12, 19, 24], labels=['MAÑANA', 'TARDE', 'NOCHE'], include_lowest=True, right=False)\n"
      ],
      "metadata": {
        "id": "I7AH2S6JHQHX"
      },
      "execution_count": null,
      "outputs": []
    },
    {
      "cell_type": "markdown",
      "source": [
        "Ahora observemos los datos en un diagrama circular:"
      ],
      "metadata": {
        "id": "ewmVG5b7Mx5q"
      }
    },
    {
      "cell_type": "code",
      "source": [
        "# Contar la frecuencia de cada valor en la columna 'FRANJA'\n",
        "conteo_franjas = Hechos['FRANJA'].value_counts()\n",
        "\n",
        "# Crear un gráfico de pastel\n",
        "plt.figure(figsize=(8, 8))\n",
        "plt.pie(conteo_franjas, labels=conteo_franjas.index, autopct='%1.1f%%', startangle=90, colors=['skyblue', 'lightgreen', 'lightcoral'])\n",
        "plt.title('Distribución de FRANJA')\n",
        "plt.show()"
      ],
      "metadata": {
        "colab": {
          "base_uri": "https://localhost:8080/",
          "height": 675
        },
        "id": "78qZIfC1Nc4H",
        "outputId": "831c032f-b3a2-4878-d40d-e9d1bc497a2f"
      },
      "execution_count": null,
      "outputs": [
        {
          "output_type": "display_data",
          "data": {
            "text/plain": [
              "<Figure size 800x800 with 1 Axes>"
            ],
            "image/png": "[encoded data removed]"
          },
          "metadata": {}
        }
      ]
    },
    {
      "cell_type": "markdown",
      "source": [
        "Se puede contemplar como la mañana es inmensamente superior a las demás franjas horarias, Esto lo tendremos en cuenta en Dashboard y en el análisis. Sin embargo como se denotará en el análisis puede depender del vehículo."
      ],
      "metadata": {
        "id": "cfDCWLkbNx1F"
      }
    },
    {
      "cell_type": "code",
      "source": [
        "#Exportamos archivos\n",
        "\n",
        "Hechos.to_csv('Hechos_clean.csv', index=False, encoding='utf-8-sig',sep=';')\n",
        "Victimas.to_csv('Victimas_clean.csv', index=False, encoding='utf-8-sig',sep=';')"
      ],
      "metadata": {
        "id": "u-FMeo8wQKHr"
      },
      "execution_count": null,
      "outputs": []
    },
    {
      "cell_type": "code",
      "source": [
        "from google.colab import files\n",
        "\n",
        "# Descargar el archivo CSV\n",
        "files.download('Hechos_clean.csv')\n",
        "files.download('Victimas_clean.csv')"
      ],
      "metadata": {
        "colab": {
          "base_uri": "https://localhost:8080/",
          "height": 17
        },
        "id": "nNfY9r2LRDSI",
        "outputId": "4ccd4854-cd94-49e9-ccbe-78f827125d0f"
      },
      "execution_count": null,
      "outputs": [
        {
          "output_type": "display_data",
          "data": {
            "text/plain": [
              "<IPython.core.display.Javascript object>"
            ],
            "application/javascript": [
              "\n",
              "    async function download(id, filename, size) {\n",
              "      if (!google.colab.kernel.accessAllowed) {\n",
              "        return;\n",
              "      }\n",
              "      const div = document.createElement('div');\n",
              "      const label = document.createElement('label');\n",
              "      label.textContent = `Downloading \"${filename}\": `;\n",
              "      div.appendChild(label);\n",
              "      const progress = document.createElement('progress');\n",
              "      progress.max = size;\n",
              "      div.appendChild(progress);\n",
              "      document.body.appendChild(div);\n",
              "\n",
              "      const buffers = [];\n",
              "      let downloaded = 0;\n",
              "\n",
              "      const channel = await google.colab.kernel.comms.open(id);\n",
              "      // Send a message to notify the kernel that we're ready.\n",
              "      channel.send({})\n",
              "\n",
              "      for await (const message of channel.messages) {\n",
              "        // Send a message to notify the kernel that we're ready.\n",
              "        channel.send({})\n",
              "        if (message.buffers) {\n",
              "          for (const buffer of message.buffers) {\n",
              "            buffers.push(buffer);\n",
              "            downloaded += buffer.byteLength;\n",
              "            progress.value = downloaded;\n",
              "          }\n",
              "        }\n",
              "      }\n",
              "      const blob = new Blob(buffers, {type: 'application/binary'});\n",
              "      const a = document.createElement('a');\n",
              "      a.href = window.URL.createObjectURL(blob);\n",
              "      a.download = filename;\n",
              "      div.appendChild(a);\n",
              "      a.click();\n",
              "      div.remove();\n",
              "    }\n",
              "  "
            ]
          },
          "metadata": {}
        },
        {
          "output_type": "display_data",
          "data": {
            "text/plain": [
              "<IPython.core.display.Javascript object>"
            ],
            "application/javascript": [
              "download(\"download_ba1323d5-0903-4496-a7e5-0ca4538d8332\", \"Hechos_clean.csv\", 82527)"
            ]
          },
          "metadata": {}
        },
        {
          "output_type": "display_data",
          "data": {
            "text/plain": [
              "<IPython.core.display.Javascript object>"
            ],
            "application/javascript": [
              "\n",
              "    async function download(id, filename, size) {\n",
              "      if (!google.colab.kernel.accessAllowed) {\n",
              "        return;\n",
              "      }\n",
              "      const div = document.createElement('div');\n",
              "      const label = document.createElement('label');\n",
              "      label.textContent = `Downloading \"${filename}\": `;\n",
              "      div.appendChild(label);\n",
              "      const progress = document.createElement('progress');\n",
              "      progress.max = size;\n",
              "      div.appendChild(progress);\n",
              "      document.body.appendChild(div);\n",
              "\n",
              "      const buffers = [];\n",
              "      let downloaded = 0;\n",
              "\n",
              "      const channel = await google.colab.kernel.comms.open(id);\n",
              "      // Send a message to notify the kernel that we're ready.\n",
              "      channel.send({})\n",
              "\n",
              "      for await (const message of channel.messages) {\n",
              "        // Send a message to notify the kernel that we're ready.\n",
              "        channel.send({})\n",
              "        if (message.buffers) {\n",
              "          for (const buffer of message.buffers) {\n",
              "            buffers.push(buffer);\n",
              "            downloaded += buffer.byteLength;\n",
              "            progress.value = downloaded;\n",
              "          }\n",
              "        }\n",
              "      }\n",
              "      const blob = new Blob(buffers, {type: 'application/binary'});\n",
              "      const a = document.createElement('a');\n",
              "      a.href = window.URL.createObjectURL(blob);\n",
              "      a.download = filename;\n",
              "      div.appendChild(a);\n",
              "      a.click();\n",
              "      div.remove();\n",
              "    }\n",
              "  "
            ]
          },
          "metadata": {}
        },
        {
          "output_type": "display_data",
          "data": {
            "text/plain": [
              "<IPython.core.display.Javascript object>"
            ],
            "application/javascript": [
              "download(\"download_dd399f17-9aa5-4f5f-ac33-95eb5310826c\", \"Victimas_clean.csv\", 33167)"
            ]
          },
          "metadata": {}
        }
      ]
    }
  ]
}